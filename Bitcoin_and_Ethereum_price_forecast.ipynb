{
 "cells": [
  {
   "cell_type": "markdown",
   "id": "4be71a23-1f20-4bc4-9849-ed661e84ccd3",
   "metadata": {},
   "source": [
    "<h1><span style=\"font-family:Arial,Helvetica,sans-serif\">Projekt ADS - Crypto Predictions&nbsp;</span>🤑💵💳</h1>"
   ]
  },
  {
   "cell_type": "code",
   "execution_count": 59,
   "id": "699694aa-dc84-47e1-bd2e-a35246527b38",
   "metadata": {},
   "outputs": [],
   "source": [
    "#!pip install tensorflow\n",
    "#!pip install sklearn\n",
    "#!pip install yfinance"
   ]
  },
  {
   "cell_type": "code",
   "execution_count": null,
   "id": "d51e2d3b-6c83-491c-95f2-32265f41834c",
   "metadata": {},
   "outputs": [],
   "source": []
  }
 ],
 "metadata": {
  "instance_type": "ml.t3.medium",
  "kernelspec": {
   "display_name": "Python 3 (Base Python 2.0)",
   "language": "python",
   "name": "python3__SAGEMAKER_INTERNAL__arn:aws:sagemaker:us-east-1:081325390199:image/sagemaker-base-python-38"
  },
  "language_info": {
   "codemirror_mode": {
    "name": "ipython",
    "version": 3
   },
   "file_extension": ".py",
   "mimetype": "text/x-python",
   "name": "python",
   "nbconvert_exporter": "python",
   "pygments_lexer": "ipython3",
   "version": "3.8.12"
  }
 },
 "nbformat": 4,
 "nbformat_minor": 5
}
