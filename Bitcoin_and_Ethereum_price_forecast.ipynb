{
 "cells": [
  {
   "cell_type": "markdown",
   "id": "4be71a23-1f20-4bc4-9849-ed661e84ccd3",
   "metadata": {},
   "source": [
    "<h1><span style=\"font-family:Arial,Helvetica,sans-serif\">Projekt ADS - Crypto Predictions&nbsp;</span>🤑💵💳</h1>"
   ]
  },
  {
   "cell_type": "markdown",
   "id": "a8ca9ee9",
   "metadata": {},
   "source": [
    "Gruppenarbeit: \n",
    "Gruppe 19\n",
    "\n",
    "Teilnehmer/inen: Mato Bajusic 👨‍💻, Albesa Istrefaj👩‍💻, Fabian Thouet 👨‍💻"
   ]
  },
  {
   "cell_type": "markdown",
   "id": "cae65be8",
   "metadata": {},
   "source": [
    "Einleitung¶\n",
    "Eine Kryptowährung ist ein digitales Geld, das als Tauschmittel über dezentrale Computernetzwerke funktionierten und\n",
    "nicht von einer zentralen Behörde wie einer Regierung oder einer Bank abhängig ist, die es unterstützt oder aufrechterhält.\n",
    "Der Sektor der Kryptowährungen hat sich sehr stark ausgeweitet und ist zu einer milliardenschweren Industrie geworden.\n",
    "Es ist schwierig, eine solch massive digitale Währung zu verstehen, und die Einschätzung der Trendänderung ist entscheidend,\n",
    "da eine Trendänderung zu Gewinn oder Verlust für eine bestimmte Kryptowährung führen kann. Bitcoin (BTC), der Marktführer,\n",
    "war in den letzten Montagen starken Kursschwankungen ausgesetzt. Dasselbe gilt für Ether. Betrachtet man den Preis über\n",
    "einen längeren Zeitpunkt hinweg so ist ein massiver Kursanstieg zu verzeichnen. Im Dezember 2019 hatte ein Bitcoin einen\n",
    "Wert von ungefähr 3'729.00 USD, Ether 147.00 USD. Zum heutigen Zeitpunkt, 31.05.2022 beträgt der Preis für einen\n",
    "Bitcoin (BTC) ungefähr 31'630.00 USD und für Ether (ETH) 1'971.40 USD. \n",
    "Seit seiner Gründung im Jahr 2008 durch eine Person oder Gruppe unter dem Pseudonym Satoshi Nakamoto ist Bitcoin\n",
    "die weltweit am häufigsten gehandelte und gehaltene Kryptowährung. Bitcoin ist die erste Kryptowährung der Welt und\n",
    "gilt weithin als der Goldstandard für die Leistung von Kryptowährungen. Ethereum wurde 2015 von einer Gruppe von\n",
    "Computerprogrammierern unter der Leitung von Vitalik Buterin gegründet. Es handelt sich um ein dezentrales Netzwerk\n",
    "mit Smart-Contract-Funktionen, die es dem Netzwerk ermöglichen, eine Reihe von dezentralen Anwendungen zu hosten.\n",
    "Ethereum ist wie Bitcoin eine dezentrale Open-Source-Initiative, die zur Durchführung von Peer-to-Peer-Zahlungen verwendet wird,\n",
    "aber es ist viel mehr. Entwickler können Datenbanken entwerfen und Smart Contracts für dezentralisierte Finanzen, NonFungible\n",
    "Token (NFT) und viele mehr. Im Bitcoin-Netzwerk sind diese Anwendungen nicht möglich.\n",
    "\n",
    "Da wir an dem Thema Kryptowährungen sehr interessiert und überzeugt sind, dass die Blockchain Technologie viel Potenzial bietet,\n",
    "haben wir uns entschieden ein Vorhersage Modell für Bitcoin und Ether zu entwickeln"
   ]
  },
  {
   "cell_type": "code",
   "execution_count": 59,
   "id": "699694aa-dc84-47e1-bd2e-a35246527b38",
   "metadata": {},
   "outputs": [],
   "source": [
    "#!pip install tensorflow\n",
    "#!pip install sklearn\n",
    "#!pip install yfinance"
   ]
  },
  {
   "cell_type": "code",
   "execution_count": null,
   "id": "d51e2d3b-6c83-491c-95f2-32265f41834c",
   "metadata": {},
   "outputs": [],
   "source": []
  }
 ],
 "metadata": {
  "instance_type": "ml.t3.medium",
  "kernelspec": {
   "display_name": "Python 3 (ipykernel)",
   "language": "python",
   "name": "python3"
  },
  "language_info": {
   "codemirror_mode": {
    "name": "ipython",
    "version": 3
   },
   "file_extension": ".py",
   "mimetype": "text/x-python",
   "name": "python",
   "nbconvert_exporter": "python",
   "pygments_lexer": "ipython3",
   "version": "3.9.7"
  }
 },
 "nbformat": 4,
 "nbformat_minor": 5
}
