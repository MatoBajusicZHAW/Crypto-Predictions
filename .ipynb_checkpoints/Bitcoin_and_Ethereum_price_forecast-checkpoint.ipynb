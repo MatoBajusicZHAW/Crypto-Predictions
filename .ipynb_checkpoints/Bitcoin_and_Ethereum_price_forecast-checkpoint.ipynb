{
 "cells": [
  {
   "cell_type": "markdown",
   "id": "cae65be8",
   "metadata": {},
   "source": [
    "<h1><span style=\"font-family:Arial,Helvetica,sans-serif\">Projekt ADS - Crypto Predictions&nbsp;</span>🤑💵💳</h1>\n",
    "\n",
    "<h2><span style=\"font-family:Arial,Helvetica,sans-serif\">Gruppenarbeit: </span></h2>\n",
    "\n",
    "<ul>\n",
    "\t<li>\n",
    "\t<p><span style=\"font-family:Arial,Helvetica,sans-serif\">Gruppe 19</span></p>\n",
    "\t</li>\n",
    "\t<li><span style=\"font-family:Arial,Helvetica,sans-serif\">Teilnehmer/inen: Mato Bajusic 👨&zwj;💻, Albesa Istrefaj</span>👩&zwj;💻<span style=\"font-family:Arial,Helvetica,sans-serif\">, Fabian Thouet&nbsp;👨&zwj;💻</span></li>\n",
    "</ul>\n",
    "\n",
    "<hr />\n",
    "<h1><span style=\"font-family:Arial,Helvetica,sans-serif\">Einleitung</span></h1>\n",
    "\n",
    "<p><span style=\"font-family:Arial,Helvetica,sans-serif\">Eine Kryptow&auml;hrung ist ein digitales Geld, das als Tauschmittel &uuml;ber dezentrale Computernetzwerke funktionierten und<br />\n",
    "nicht von einer zentralen Beh&ouml;rde wie einer Regierung oder einer Bank abh&auml;ngig ist, die es unterst&uuml;tzt oder aufrechterh&auml;lt.<br />\n",
    "Der Sektor der Kryptow&auml;hrungen hat sich sehr stark ausgeweitet und ist zu einer milliardenschweren Industrie geworden.<br />\n",
    "Es ist schwierig, eine solch massive digitale W&auml;hrung zu verstehen, und die Einsch&auml;tzung der Trend&auml;nderung ist entscheidend,<br />\n",
    "da eine Trend&auml;nderung zu Gewinn oder Verlust f&uuml;r eine bestimmte Kryptow&auml;hrung f&uuml;hren kann. Bitcoin (BTC), der Marktf&uuml;hrer,<br />\n",
    "war in den letzten Montagen starken Kursschwankungen ausgesetzt. Dasselbe gilt f&uuml;r Ether. Betrachtet man den Preis &uuml;ber<br />\n",
    "einen l&auml;ngeren Zeitpunkt hinweg so ist ein massiver Kursanstieg zu verzeichnen. Im Dezember 2019 hatte ein Bitcoin einen<br />\n",
    "Wert von ungef&auml;hr 3&#39;729.00 USD, Ether 147.00 USD. Zum heutigen Zeitpunkt, 31.05.2022 betr&auml;gt der Preis f&uuml;r einen<br />\n",
    "Bitcoin (BTC) ungef&auml;hr 31&#39;630.00 USD und f&uuml;r Ether (ETH) 1&#39;971.40 USD.&nbsp;<br />\n",
    "Seit seiner Gr&uuml;ndung im Jahr 2008 durch eine Person oder Gruppe unter dem Pseudonym Satoshi Nakamoto ist Bitcoin<br />\n",
    "die weltweit am h&auml;ufigsten gehandelte und gehaltene Kryptow&auml;hrung. Bitcoin ist die erste Kryptow&auml;hrung der Welt und<br />\n",
    "gilt weithin als der Goldstandard f&uuml;r die Leistung von Kryptow&auml;hrungen. Ethereum wurde 2015 von einer Gruppe von<br />\n",
    "Computerprogrammierern unter der Leitung von Vitalik Buterin gegr&uuml;ndet. Es handelt sich um ein dezentrales Netzwerk<br />\n",
    "mit Smart-Contract-Funktionen, die es dem Netzwerk erm&ouml;glichen, eine Reihe von dezentralen Anwendungen zu hosten.<br />\n",
    "Ethereum ist wie Bitcoin eine dezentrale Open-Source-Initiative, die zur Durchf&uuml;hrung von Peer-to-Peer-Zahlungen verwendet wird,<br />\n",
    "aber es ist viel mehr. Entwickler k&ouml;nnen Datenbanken entwerfen und Smart Contracts f&uuml;r dezentralisierte Finanzen, NonFungible<br />\n",
    "Token (NFT) und viele mehr. Im Bitcoin-Netzwerk sind diese Anwendungen nicht m&ouml;glich.<br />\n",
    "<br />\n",
    "Da wir an dem Thema Kryptow&auml;hrungen sehr interessiert und &uuml;berzeugt sind, dass die Blockchain Technologie viel Potenzial bietet,<br />\n",
    "haben wir uns entschieden ein Vorhersage Modell f&uuml;r Bitcoin und Ether zu entwickeln.</span></p>\n",
    "\n",
    "<h1><span style=\"font-family:Arial,Helvetica,sans-serif\">Problemstellung&nbsp;🛑</span></h1>\n",
    "\n",
    "<p><span style=\"font-family:Arial,Helvetica,sans-serif\">Einer der gr&ouml;ssten Durchbr&uuml;che und Herausforderungen in der modernen Weltwirtschaft war der rasante Aufstieg<br />\n",
    "digitaler W&auml;hrungen in den letzten zehn Jahren. Starke Schwankungen der Wechselkurse von Kryptow&auml;hrungen,<br />\n",
    "ihre hohe Volatilit&auml;t sowie die fehlende rechtliche Kontrolle ihrer Transaktionen in den meisten L&auml;ndern haben zu<br />\n",
    "erheblichen Risiken bei Investitionen in Kryptoanlagen gef&uuml;hrt. Daher ist es sowohl f&uuml;r die wissenschaftliche Gemeinschaft<br />\n",
    "als auch f&uuml;r Finanzanalysten, Investoren und Kleinanleger von Interesse, geeignete Methoden und Modelle f&uuml;r die Vorhersage<br />\n",
    "der Preise von Kryptow&auml;hrungen zu finden.</span></p>\n",
    "\n",
    "<h1><span style=\"font-family:Arial,Helvetica,sans-serif\">Ziel&nbsp;🎯</span></h1>\n",
    "\n",
    "<p><span style=\"font-family:Arial,Helvetica,sans-serif\">Ziel ist es, mit Hilfe von Deep-Learning-Algorithmen ein Vorhersagemodell f&uuml;r die Kryptow&auml;hrungen Bitcoin und Ethereum zu erstellen. Dabei werden die Modell RNN und LSTM miteinander verglichen</span></p>\n",
    "\n",
    "<h1><span style=\"font-family:Arial,Helvetica,sans-serif\">Forschungsfrage&nbsp;❓</span></h1>\n",
    "\n",
    "<ol>\n",
    "\t<li><span style=\"font-family:Arial,Helvetica,sans-serif\">Welches der beiden Modelle RNN und LSTM erreicht die höheren Genauigkeitswerte?</span></li>\n",
    "</ol>\n",
    "\n",
    "<h1><span style=\"font-family:Arial,Helvetica,sans-serif\">Methoden und Vorgehen&nbsp;🛣</span></h1>\n",
    "\n",
    "<p><span style=\"font-family:Arial,Helvetica,sans-serif\">In diesem Notizbuch möchten wir die Deep-Learning-Modelle RNN und LSTM implementieren, um Vorhersagen für Kryptowährungen zu erstellen.<br />\n",
    "&nbsp;</p>"
   ]
  },
  {
   "cell_type": "markdown",
   "id": "e3adbd83",
   "metadata": {},
   "source": [
    "Was ist RNN und LSTM\n",
    "RNN ist eine Klasse von künstlichen neuronalen Netzen, die eine zeitliche Abfolge modellieren. Eine Zeitreihe ist eine Art zeitliche Sequenz mit Stichproben, die zu gleichen Zeitpunkten genommen werden.RNNs verwenden ein Sequenzmodellkonzept, bei dem der vorhergesagte Wert einer Probe zu einem bestimmten Zeitpunkt von den Merkmalsvariablen zu diesem Zeitpunkt sowie von den angrenzenden Werten abhängt.\n",
    "\n",
    "RNN sind in Anwendungen, die zeitliche Sequenzen beinhalten, wie z. B. die Verarbeitung natürlicher Sprache, Spracherkennung und Zeitreihenprognosen, sehr beliebt. Netze mit langem Kurzzeitgedächtnis, kurz LSTM, sind eine besondere Art von RNN, die sich selektiv vergangenes Verhalten merken können, um das aktuelle Verhalten vorherzusagen.\n",
    "\n",
    "Im Allgemeinen werden nicht alle Stichproben aus der jüngsten Vergangenheit gleich gewichtet, sondern es wird eine selektive Logik verwendet, die sicherstellt, dass nur signifikante Stichproben aus der Vergangenheit im Speicher verbleiben, um zukünftige Ergebnisse vorherzusagen. LSTM ist sehr beliebt für die Vorhersage von zeitlichen Abläufen, und ist bekannt dafür, dass es genaue Modelle erzeugt, die auch eine Reihe von Eckfällen lösen.\n",
    "\n",
    "RNN vs LSTM\n",
    "RNN-Topologien:\n",
    "Sequenz zu Sequenz (Vorhersage von Aktienkursen auf der Grundlage von Serien historischer Daten)\n",
    "RNNs haben Rückkopplungsschleifen in der rekurrenten Schicht. Dadurch können sie Informationen im Laufe der Zeit im \"Gedächtnis\" behalten. Es kann jedoch schwierig sein, Standard-RNNs zu trainieren, um Probleme zu lösen, die das Lernen langfristiger zeitlicher Abhängigkeiten erfordern.\n",
    "Der Grund dafür ist, dass der Gradient der Verlustfunktion mit der Zeit exponentiell abnimmt (das so genannte Problem des verschwindenden Gradienten).\n",
    "LSTM-Zelle (Long Short-Term Memory Cell):\n",
    "unterhält getrennte Kurzzeit- und Langzeitzustände\n",
    "wir wollen nicht, dass neuere Daten bevorzugt werden, deshalb verwenden wir eine LSTM-Zelle\n",
    "LSTM-Netze sind eine Art von RNN, die zusätzlich zu den Standardeinheiten spezielle Einheiten verwenden\n",
    "LSTM-Einheiten verfügen über eine \"Speicherzelle\", die Informationen über lange Zeiträume hinweg im Speicher halten kann; diese Speicherzelle ermöglicht es ihnen, längerfristige Abhängigkeiten zu lernen\n",
    "LSTMs bewältigen das Problem des verschwindenden und explodierenden Gradienten durch die Einführung neuer Gatter, wie z. B. Eingabe- und Vergessensgatter, die eine bessere Kontrolle des Gradientenflusses und eine bessere Erhaltung von \"langfristigen Abhängigkeiten\" ermöglichen\n",
    "Der Hauptunterschied zwischen RNN und LSTM besteht darin, welche Informationen über einen längeren Zeitraum im Speicher gehalten werden. Hier hat das LSTM einen Vorteil gegenüber dem RNN, da das LSTM die Informationen im Speicher über einen langen Zeitraum im Vergleich zum RNN verwalten kann.\n"
   ]
  },
  {
   "cell_type": "markdown",
   "id": "59bd788f",
   "metadata": {},
   "source": [
    "Importieren von Bibliotheken ⚙🛠¶\n",
    "In den nachfolgenden Code-Abschnitt importieren wir alle notwendigne Bibliotheken, die wir für die Vorhersage benötigen.\n",
    "Ebenfalls installieren wir yfinance. Bei yfinance handelt es sich um ein Open-Source-Tool, das die öffentlich zugänglichen APIs\n",
    "von Yahoo für die Nutzung bereitstellt und für Forschungs- und Bildungszwecke gedacht ist."
   ]
  },
  {
   "cell_type": "code",
   "execution_count": 4,
   "id": "699694aa-dc84-47e1-bd2e-a35246527b38",
   "metadata": {},
   "outputs": [
    {
     "data": {
      "text/plain": [
       "\"import warnings\\nwarnings.filterwarnings('ignore')\\nfrom tensorflow.keras.optimizers import Adam\\nfrom tensorflow.keras.models import Sequential\\nimport tensorflow as tf\\nfrom statsmodels.tsa.seasonal import seasonal_decompose\\nfrom tensorflow.keras.layers import LSTM, Dropout, Dense, SimpleRNN\\nfrom sklearn.preprocessing import StandardScaler\\nimport statsmodels.api as sm\\nfrom sklearn.metrics import mean_squared_error, r2_score\\n\\nimport yfinance as yf\\nimport pandas as pd\\nimport matplotlib.pyplot as plt\\n\\nimport numpy as np\\nimport datetime\\nfrom keras.callbacks import EarlyStopping\\ntf.random.set_seed(1234)\\n\\nfrom bs4 import BeautifulSoup\\nimport requests\\nimport json\\nfrom datetime import date\""
      ]
     },
     "execution_count": 4,
     "metadata": {},
     "output_type": "execute_result"
    }
   ],
   "source": [
    "#!pip install tensorflow\n",
    "#!pip install sklearn\n",
    "#!pip install yfinance\n",
    "#!pip install -q yfinance\n",
    "import warnings\n",
    "warnings.filterwarnings('ignore')\n",
    "from tensorflow.keras.optimizers import Adam\n",
    "from tensorflow.keras.models import Sequential\n",
    "import tensorflow as tf\n",
    "from statsmodels.tsa.seasonal import seasonal_decompose\n",
    "from tensorflow.keras.layers import LSTM, Dropout, Dense, SimpleRNN\n",
    "from sklearn.preprocessing import StandardScaler\n",
    "import statsmodels.api as sm\n",
    "from sklearn.metrics import mean_squared_error, r2_score\n",
    "\n",
    "import yfinance as yf\n",
    "import pandas as pd\n",
    "import matplotlib.pyplot as plt\n",
    "\n",
    "import numpy as np\n",
    "import datetime\n",
    "from keras.callbacks import EarlyStopping\n",
    "tf.random.set_seed(1234)\n",
    "\n",
    "from bs4 import BeautifulSoup\n",
    "import requests\n",
    "import json\n",
    "from datetime import date\n"
   ]
  },
  {
   "cell_type": "markdown",
   "id": "3e422375-0d1c-43b4-88f9-830f4217e197",
   "metadata": {},
   "source": [
    "# Datenmenge laden\n",
    "\n",
    "Wir werden den Datensatz mithilfe der Finanzbibliothek laden. Sie verwendet eine Funktion ticker, in der wir den Namen der Kryptowährung übergeben können, und speichert die Daten in einer Variablen, mit der wir die vergangenen Daten zum Laden in den Datenrahmen aufrufen können. Hier verwenden wir die Daten der letzten zwei Jahre sowohl für Bitcoin als auch für Ethereum."
   ]
  },
  {
   "cell_type": "code",
   "execution_count": null,
   "id": "31b605ef-f003-44b5-a6fa-a1a474a8fde0",
   "metadata": {},
   "outputs": [],
   "source": [
    "eth = yf.Ticker('ETH-USD') # Calling the ethereum data \n",
    "\n",
    "ethereum_df_orig = eth.history(period=\"2y\") # loading the 2 years of data in the dataframe\n",
    "ethereum_df = ethereum_df_orig.copy() # copying the original dataframe to use further when forecasting\n",
    "\n",
    "btc = yf.Ticker('BTC-USD') # Calling the bitcoin data \n",
    "\n",
    "bitcoin_df_orig = btc.history(period=\"2y\") # loading the 2 years of data in the dataframe\n",
    "bitcoin_df = bitcoin_df_orig.copy() # copying the original dataframe to use further when forecasting"
   ]
  },
  {
   "cell_type": "code",
   "execution_count": null,
   "id": "9587c422-a7cd-40ae-af6f-021a913e4b7b",
   "metadata": {},
   "outputs": [],
   "source": [
    "# Explorative Datenanalyse\n",
    "\n",
    "In diesem Abschnitt werden wir versuchen, beide Daten zu verstehen, um einige Erkenntnisse aus ihnen zu gewinnen und zu prüfen, ob unsere Daten bereinigt werden müssen."
   ]
  },
  {
   "cell_type": "code",
   "execution_count": null,
   "id": "10740306-3f7e-48f7-8faa-92b01fb77f66",
   "metadata": {},
   "outputs": [],
   "source": [
    "# Return top 5 rows of the ethereum data\n",
    "ethereum_df.head()"
   ]
  },
  {
   "cell_type": "code",
   "execution_count": null,
   "id": "4f40ad7d-e2d4-45ba-a0b8-d915d70c9588",
   "metadata": {},
   "outputs": [],
   "source": [
    "# Return last 5 rows of the ethereum data\n",
    "ethereum_df.tail()"
   ]
  },
  {
   "cell_type": "code",
   "execution_count": null,
   "id": "af18fa3b-c510-4f57-bed1-f346688f91ab",
   "metadata": {},
   "outputs": [],
   "source": [
    "# Return top 5 rows of the bitcoin data\n",
    "bitcoin_df.head()"
   ]
  },
  {
   "cell_type": "code",
   "execution_count": null,
   "id": "3f16a147-0e2b-481f-814f-e947e08034bc",
   "metadata": {},
   "outputs": [],
   "source": [
    "# Return last 5 rows of the bitcoin data\n",
    "bitcoin_df.tail()"
   ]
  },
  {
   "cell_type": "code",
   "execution_count": null,
   "id": "889578c0-6813-4a6f-8ae5-30d134176a5e",
   "metadata": {},
   "outputs": [],
   "source": [
    "# Check for the size of the ethereum data\n",
    "ethereum_df.shape"
   ]
  },
  {
   "cell_type": "code",
   "execution_count": null,
   "id": "12ceeff0-c2ca-469d-a23f-3eb146a9d103",
   "metadata": {},
   "outputs": [],
   "source": [
    "# Check for the size of the bitcoin data\n",
    "bitcoin_df.shape"
   ]
  },
  {
   "cell_type": "markdown",
   "id": "c4e31e05-d54c-405f-9d78-103383ab0360",
   "metadata": {},
   "source": [
    "Aus den obigen Ergebnissen ist ersichtlich, dass beide Datensätze 731 Zeilen und sieben Spalten haben, nämlich Open, High, Low, Close, Volume, Dividends und Stock Splits. Ausserdem beginnen die Daten in den letzten zwei Jahren am selben Tag wie heute und enden bis heute."
   ]
  },
  {
   "cell_type": "markdown",
   "id": "7933c172",
   "metadata": {},
   "source": [
    "Datenbereinigung\n",
    "Dabei wird geprüft, ob die Daten bereinigt werden müssen oder ob sie fehlende oder unpassende Werte enthalten."
   ]
  },
  {
   "cell_type": "code",
   "execution_count": null,
   "id": "99b6d665",
   "metadata": {},
   "outputs": [],
   "source": [
    "# Check for the data types of each column and the non null count (ethereum)\n",
    "ethereum_df.info()"
   ]
  },
  {
   "cell_type": "code",
   "execution_count": null,
   "id": "6ff9d313",
   "metadata": {},
   "outputs": [],
   "source": [
    "# Check for the data types of each column and the non null count (bitcoin)\n",
    "bitcoin_df.info()"
   ]
  },
  {
   "cell_type": "code",
   "execution_count": null,
   "id": "bbcaf740",
   "metadata": {},
   "outputs": [],
   "source": [
    "# Check for any missing value in ethereum data \n",
    "ethereum_df.isnull().sum()"
   ]
  },
  {
   "cell_type": "code",
   "execution_count": null,
   "id": "a4050191",
   "metadata": {},
   "outputs": [],
   "source": [
    "# Check for any missing value in bitcoin data\n",
    "bitcoin_df.isnull().sum()"
   ]
  },
  {
   "cell_type": "code",
   "execution_count": null,
   "id": "522fa95c",
   "metadata": {},
   "outputs": [],
   "source": [
    "Wir können den Schritt der Datenbereinigung ignorieren, da der Datensatz keine fehlenden Werte enthält."
   ]
  },
  {
   "cell_type": "code",
   "execution_count": null,
   "id": "0d3eef86",
   "metadata": {},
   "outputs": [],
   "source": [
    "# Visualizing the close, high and low price of ethereum\n",
    "plt.figure(figsize = (20,8)) # set the size of the figure\n",
    "plt.grid(b=True, which='major', axis='both') # using grid lines\n",
    "plt.title('Close Price in each day (Ethereum)', fontsize = 30) # set the title of the figure\n",
    "plt.plot(ethereum_df.index, ethereum_df['Close'], color='blue', label='Close price', linewidth=3) # plotting close price\n",
    "plt.plot(ethereum_df.index, ethereum_df['High'], color='green', label='High price', linewidth=2) # plotting high price\n",
    "plt.plot(ethereum_df.index, ethereum_df['Low'], color='red', label='Low price', linewidth=2) # plotting low price\n",
    "plt.xticks(fontsize=20) # increase the fontsize of the x ticks\n",
    "plt.yticks(fontsize=20) # increase the fontsize of the y ticks\n",
    "plt.ylabel('Price', fontsize = 25) # set y label as price \n",
    "plt.legend(fontsize=25,shadow=True,facecolor='cyan', edgecolor = 'k') # set the legend\n",
    "plt.show()"
   ]
  },
  {
   "cell_type": "code",
   "execution_count": null,
   "id": "fa32b94a",
   "metadata": {},
   "outputs": [],
   "source": [
    "# Visualizing the close, high and low price of bitcoin \n",
    "\n",
    "# all the process are same as in the ethereum data\n",
    "plt.figure(figsize = (20,8))\n",
    "plt.grid(b=True, which='major', axis='both')\n",
    "plt.title('Close Price in each day (Bitcoin)', fontsize = 30)\n",
    "plt.plot(bitcoin_df.index, bitcoin_df['Close'], color='blue', label='Close price', linewidth=3)\n",
    "plt.plot(bitcoin_df.index, bitcoin_df['High'], color='green', label='High price', linewidth=2)\n",
    "plt.plot(bitcoin_df.index, bitcoin_df['Low'], color='red', label='Low price', linewidth=2)\n",
    "plt.xticks(fontsize=20)\n",
    "plt.yticks(fontsize=20)\n",
    "plt.ylabel('Price', fontsize = 25)\n",
    "plt.legend(fontsize=25,shadow=True,facecolor='cyan', edgecolor = 'k')\n",
    "plt.show()"
   ]
  },
  {
   "cell_type": "code",
   "execution_count": null,
   "id": "2ab3b459",
   "metadata": {},
   "outputs": [],
   "source": [
    "# calculating the rolling mean and standard deviation of the ethereum and visualizing the same\n",
    "rolmean = ethereum_df['Close'].rolling(12).mean() # rolling mean\n",
    "rolstd = ethereum_df['Close'].rolling(12).std() # rolling standard deviation\n",
    "\n",
    "plt.figure(figsize = (18,8))\n",
    "plt.grid('both')\n",
    "plt.plot(ethereum_df['Close'], color='blue',label='Original')# plotting close price\n",
    "plt.plot(rolmean, color='red', label='Rolling Mean') # plotting rolling mean\n",
    "plt.plot(rolstd, color='black', label = 'Rolling Std') # plotting standard deviation\n",
    "plt.legend(loc='best', fontsize = 20, shadow=True,facecolor='lightpink',edgecolor = 'k')\n",
    "plt.title('Rolling Mean and Standard Deviation (Ethereum)', fontsize = 25)\n",
    "plt.xticks(fontsize = 15)\n",
    "plt.yticks(fontsize = 15)\n",
    "plt.show(block=False)"
   ]
  },
  {
   "cell_type": "markdown",
   "id": "8e2960bb",
   "metadata": {},
   "source": [
    "Aus den obigen Diagrammen können wir einen Aufwärtstrend um 2021 Oktober in Ethereum sehen. In Bitcoin gibt es einen Aufwärtstrend um Januar 2021 und Oktober 2021."
   ]
  },
  {
   "cell_type": "markdown",
   "id": "0a276482",
   "metadata": {},
   "source": [
    "Vorbereitung der Daten¶\n",
    "Um die Deep-Learning-Modelle auf den nahe gelegenen Preis zu trainieren, müssen wir zunächst den Datensatz vorbereiten und ihn in Trainings- und Testmerkmale sowie Trainings- und Testlabels aufteilen."
   ]
  },
  {
   "cell_type": "code",
   "execution_count": null,
   "id": "f8b013b6",
   "metadata": {},
   "outputs": [],
   "source": [
    " # Filtering data to only close price   \n",
    "ethereum_df = ethereum_df[['Close']]\n",
    "bitcoin_df = bitcoin_df[['Close']]"
   ]
  },
  {
   "cell_type": "markdown",
   "id": "908e5cbd",
   "metadata": {},
   "source": [
    "Aufteilung der Daten in Training und Test¶\n",
    "Nun werden die Daten in einen Trainings- und einen Testsatz aufgeteilt, wobei der Testumfang 20 % und der Trainingsumfang 80 % beträgt."
   ]
  },
  {
   "cell_type": "code",
   "execution_count": null,
   "id": "a55b1c2d",
   "metadata": {},
   "outputs": [],
   "source": [
    "# Calculating the 20% size of the dataset\n",
    "size = int(len(ethereum_df)*0.2)\n",
    "\n",
    "# Splitting ethereum to train and test\n",
    "ethereum_train = ethereum_df.iloc[:-size]\n",
    "ethereum_test = ethereum_df.iloc[-size:]\n",
    "\n",
    "# Splitting bitcoin to train and test\n",
    "bitcoin_train = bitcoin_df.iloc[:-size]\n",
    "bitcoin_test = bitcoin_df.iloc[-size:]"
   ]
  },
  {
   "cell_type": "code",
   "execution_count": null,
   "id": "266f5f3a",
   "metadata": {},
   "outputs": [],
   "source": [
    "# Check the shape of the train and test set after splitting \n",
    "print('Ethereum train shape : ', ethereum_train.shape)\n",
    "print('Ethereum test shape : ', ethereum_test.shape)"
   ]
  },
  {
   "cell_type": "code",
   "execution_count": null,
   "id": "a57543db",
   "metadata": {},
   "outputs": [],
   "source": [
    "# Check the shape of the train and test set after splitting \n",
    "print('Bitcoin train shape : ', bitcoin_train.shape)\n",
    "print('Bitcoin test shape : ', bitcoin_test.shape)"
   ]
  },
  {
   "cell_type": "code",
   "execution_count": null,
   "id": "2a0460db",
   "metadata": {},
   "outputs": [],
   "source": [
    "# Visualizing the train and test data (Ethereum)\n",
    "plt.figure(figsize=(18,8))\n",
    "plt.grid(True)\n",
    "plt.title('Train and test data (Ethereum)', fontsize = 20)\n",
    "plt.xlabel('Dates', fontsize = 20)\n",
    "plt.ylabel('Close Price', fontsize = 20)\n",
    "plt.xticks(fontsize = 15)\n",
    "plt.xticks(fontsize = 15)\n",
    "plt.plot(ethereum_train, 'green', label='Train data', linewidth = 2)\n",
    "plt.plot(ethereum_test, 'blue', label='Test data', linewidth = 2)\n",
    "plt.legend(fontsize = 20, shadow=True,facecolor='lightpink',edgecolor = 'k')\n",
    "plt.show()"
   ]
  },
  {
   "cell_type": "code",
   "execution_count": null,
   "id": "9c1f3d09",
   "metadata": {},
   "outputs": [],
   "source": [
    "# Visualizing the train and test data (Bitcoin)\n",
    "plt.figure(figsize=(18,8))\n",
    "plt.grid(True)\n",
    "plt.title('Train and test data (Bitcoin)', fontsize = 20)\n",
    "plt.xlabel('Dates', fontsize = 20)\n",
    "plt.ylabel('Close Price', fontsize = 20)\n",
    "plt.xticks(fontsize = 15)\n",
    "plt.xticks(fontsize = 15)\n",
    "plt.plot(bitcoin_train, 'green', label='Train data', linewidth = 2)\n",
    "plt.plot(bitcoin_test, 'blue', label='Test data', linewidth = 2)\n",
    "plt.legend(fontsize = 20, shadow=True,facecolor='lightpink',edgecolor = 'k')\n",
    "plt.show()"
   ]
  },
  {
   "cell_type": "markdown",
   "id": "53942cda",
   "metadata": {},
   "source": [
    "Skalierung¶\n",
    "In diesem Abschnitt werden wir die Werte herunterskalieren, damit unser Modell beim Training keine Verzerrungen erfährt."
   ]
  },
  {
   "cell_type": "code",
   "execution_count": null,
   "id": "f94b81a0",
   "metadata": {},
   "outputs": [],
   "source": [
    "# Initializing the scaler for ethereum data \n",
    "scaler1 = StandardScaler()\n",
    "\n",
    "# Fitting and transforming the ethereum train and test data\n",
    "ethereum_train['Close'] = scaler1.fit_transform(ethereum_train)\n",
    "ethereum_test['Close'] = scaler1.transform(ethereum_test)\n",
    "\n",
    "# Initializing the scaler for bitcoin data \n",
    "scaler2 = StandardScaler()\n",
    "\n",
    "# Fitting and transforming the bitcoin train and test data\n",
    "bitcoin_train['Close'] = scaler2.fit_transform(bitcoin_train)\n",
    "bitcoin_test['Close'] = scaler2.transform(bitcoin_test)"
   ]
  },
  {
   "cell_type": "markdown",
   "id": "5c528330",
   "metadata": {},
   "source": [
    "Ethereum Modell Training\n",
    "Daten Fenster\n",
    "\n",
    "Wir berücksichtigen die Zeitschritte und die Art und Weise, wie vergangene Daten ausgewertet werden sollten, wenn wir den Schlusskurs eines Tages vorhersagen wollen. Daher nehmen wir den Schlusskurs der letzten 60 Tage als Merkmal und den Schlusskurs des nächsten Tages als Ziel."
   ]
  },
  {
   "cell_type": "markdown",
   "id": "c225c8da",
   "metadata": {},
   "source": [
    "Modell Training mit LSTM¶"
   ]
  },
  {
   "cell_type": "code",
   "execution_count": null,
   "id": "cd1f087a",
   "metadata": {},
   "outputs": [],
   "source": [
    "window_size = 60\n",
    "\n",
    "# Creating a data structure with 60 timesteps and 1 output\n",
    "X_train = []\n",
    "y_train = []\n",
    "for i in range(window_size, len(ethereum_train)):\n",
    "    X_train.append(ethereum_train.iloc[i-window_size:i].values) \n",
    "    y_train.append(ethereum_train.iloc[i, -1]) # consider Close as target\n",
    "    \n",
    "# Change them to numpy array\n",
    "X_train, y_train = np.array(X_train), np.array(y_train).reshape(-1,1)"
   ]
  },
  {
   "cell_type": "code",
   "execution_count": null,
   "id": "45d31890",
   "metadata": {},
   "outputs": [],
   "source": [
    "# Preparing Test dataset\n",
    "# Concatenate train data to test data\n",
    "dataset_total = np.concatenate((ethereum_train, ethereum_test), axis = 0)\n",
    "# Split test data and last window-size of train data\n",
    "inputs = dataset_total[len(dataset_total) - len(ethereum_test) - window_size:]\n",
    "# Do the same thing for test data\n",
    "X_test = []\n",
    "y_test = []\n",
    "for i in range(window_size, window_size+len(ethereum_test)):\n",
    "    X_test.append(inputs[i-window_size:i, :]) \n",
    "    y_test.append(inputs[i, -1]) # consider Close as target\n",
    "# Change them to numpy array\n",
    "X_test, y_test = np.array(X_test), np.array(y_test).reshape(-1, 1)"
   ]
  },
  {
   "cell_type": "code",
   "execution_count": null,
   "id": "8b452de0",
   "metadata": {},
   "outputs": [],
   "source": [
    "# Create a Keras Model\n",
    "model_1 = Sequential()\n",
    "\n",
    "#Add LSTM\n",
    "model_1.add(LSTM(units=256, return_sequences=True, input_shape = (X_train.shape[1], X_train.shape[2])))\n",
    "model_1.add(Dropout(0.5))\n",
    "model_1.add(LSTM(units=64, return_sequences= False))\n",
    "model_1.add(Dense(units=10, activation= 'relu'))\n",
    "model_1.add(Dense(units=1))\n",
    "adamopt = Adam(lr=0.001)\n",
    "\n",
    "# Compile with Adam Optimizer. Optimize for minimum mean square error\n",
    "model_1.compile(optimizer = adamopt, loss = 'mse')\n",
    "\n",
    "# Initializing the early stop to stop the model at best accuracy\n",
    "earlystop = EarlyStopping(monitor = 'loss',\n",
    "                          min_delta = 0,\n",
    "                          patience = 5,\n",
    "                          restore_best_weights = True)\n",
    "\n",
    "#Print model summary\n",
    "model_1.summary()\n",
    "\n",
    "# Fitting LSTM model \n",
    "model_1_history = model_1.fit(X_train, y_train, epochs = 30, callbacks = earlystop)\n"
   ]
  },
  {
   "cell_type": "code",
   "execution_count": null,
   "id": "7c955556",
   "metadata": {},
   "outputs": [],
   "source": [
    "# Predicting on the test data\n",
    "test_predict_1 = model_1.predict(X_test)\n",
    "\n",
    "# Calculating the rmse value for the predictions and the actual test values\n",
    "print('RMSE :', np.sqrt(mean_squared_error(y_test, test_predict_1)))\n",
    "\n",
    "# Visualizing the actual test and predicted values\n",
    "plt.figure(figsize = (20,10))\n",
    "plt.grid(b=True, which='major', axis='both')\n",
    "plt.title('Testing prediction result (LSTM)', fontsize = 30)\n",
    "plt.plot(ethereum_test.index, y_test,linewidth = 4, label='True', color = 'blue')\n",
    "plt.plot(ethereum_test.index, test_predict_1,linewidth = 4,color = 'red', label='Predicted')\n",
    "plt.xticks(fontsize = 20)\n",
    "plt.yticks(fontsize = 20)\n",
    "plt.legend(fontsize=25,shadow=True,facecolor='cyan', edgecolor = 'k')\n",
    "plt.show()"
   ]
  },
  {
   "cell_type": "code",
   "execution_count": null,
   "id": "642f9919",
   "metadata": {},
   "outputs": [],
   "source": [
    "# Calculating the accuarcy score \n",
    "accuracy = r2_score(y_test, test_predict_1)*100\n",
    "print('Accuracy score of LSTM : ', round(accuracy,2))"
   ]
  },
  {
   "cell_type": "markdown",
   "id": "0df65a68-cb1d-41ca-86e2-285dde1acd2d",
   "metadata": {},
   "source": [
    "### Modell Training mit RNN"
   ]
  },
  {
   "cell_type": "code",
   "execution_count": null,
   "id": "f8028054-6456-4082-a84e-437804e82b08",
   "metadata": {},
   "outputs": [],
   "source": [
    "window_size = 60\n",
    "\n",
    "# Creating a data structure with 60 timesteps and 1 output\n",
    "X_train = []\n",
    "y_train = []\n",
    "for i in range(window_size, len(ethereum_train)):\n",
    "    X_train.append(ethereum_train.iloc[i-window_size:i].values) \n",
    "    y_train.append(ethereum_train.iloc[i, -1]) # consider Close as target\n",
    "    \n",
    "# Change them to numpy array\n",
    "X_train, y_train = np.array(X_train), np.array(y_train).reshape(-1,1)"
   ]
  },
  {
   "cell_type": "code",
   "execution_count": null,
   "id": "8ae7989a-84a9-4f5b-9620-6185d7d449c4",
   "metadata": {},
   "outputs": [],
   "source": [
    "# Preparing Test dataset\n",
    "\n",
    "# Concatenate train data to test data\n",
    "dataset_total = np.concatenate((ethereum_train, ethereum_test), axis = 0)\n",
    "# Split test data and last window-size of train data\n",
    "inputs = dataset_total[len(dataset_total) - len(ethereum_test) - window_size:]\n",
    "# Do the same thing for test data\n",
    "X_test = []\n",
    "y_test = []\n",
    "for i in range(window_size, window_size+len(ethereum_test)):\n",
    "    X_test.append(inputs[i-window_size:i, :]) \n",
    "    y_test.append(inputs[i, -1]) # consider Close as target\n",
    "# Change them to numpy array\n",
    "X_test, y_test = np.array(X_test), np.array(y_test).reshape(-1, 1)"
   ]
  },
  {
   "cell_type": "code",
   "execution_count": null,
   "id": "2b4b2e49-a05d-4895-92ff-53bad56b0b2a",
   "metadata": {},
   "outputs": [],
   "source": [
    "# Create a Keras Model\n",
    "model_1 = Sequential()\n",
    "\n",
    "#Add RNN \n",
    "model_1.add(SimpleRNN(units=256, input_shape = (X_train.shape[1], X_train.shape[2])))\n",
    "model_1.add(Dropout(0.5))\n",
    "model_1.add(Dense(units=10))\n",
    "model_1.add(Dense(units=1))\n",
    "adamopt = Adam(lr=0.001)\n",
    "\n",
    "# Compile with Adam Optimizer. Optimize for minimum mean square error\n",
    "model_1.compile(optimizer = adamopt, loss = 'mse')\n",
    "\n",
    "# Initializing the early stop to stop the model at best accuracy\n",
    "earlystop = EarlyStopping(monitor = 'loss',\n",
    "                          min_delta = 0,\n",
    "                          patience = 5,\n",
    "                          restore_best_weights = True)\n",
    "\n",
    "#Print model summary\n",
    "model_1.summary()\n",
    "\n",
    "# Fitting RNN model \n",
    "model_1_history = model_1.fit(X_train, y_train, epochs = 30, callbacks = earlystop)\n"
   ]
  },
  {
   "cell_type": "code",
   "execution_count": null,
   "id": "71b6559c-65ea-45af-a536-7c2850c2728e",
   "metadata": {},
   "outputs": [],
   "source": [
    "# Predicting on the test data\n",
    "test_predict_1 = model_1.predict(X_test)\n",
    "\n",
    "# Calculating the rmse value for the predictions and the actual test values\n",
    "print('RMSE :', np.sqrt(mean_squared_error(y_test, test_predict_1)))\n",
    "\n",
    "# Visualizing the actual test and predicted values\n",
    "plt.figure(figsize = (20,10))\n",
    "plt.grid(b=True, which='major', axis='both')\n",
    "plt.title('Testing prediction result (RNN)', fontsize = 30)\n",
    "plt.plot(ethereum_test.index, y_test,linewidth = 4, label='True', color = 'blue')\n",
    "plt.plot(ethereum_test.index, test_predict_1,linewidth = 4,color = 'red', label='Predicted')\n",
    "plt.xticks(fontsize = 20)\n",
    "plt.yticks(fontsize = 20)\n",
    "plt.legend(fontsize=25,shadow=True,facecolor='cyan', edgecolor = 'k')\n",
    "plt.show()"
   ]
  },
  {
   "cell_type": "code",
   "execution_count": null,
   "id": "c33e78e2-97b4-43d0-a28f-83385e86890a",
   "metadata": {},
   "outputs": [],
   "source": [
    "# Calculating the accuarcy score \n",
    "accuracy = r2_score(y_test, test_predict_1)*100\n",
    "print('Accuracy score of RNN : ', round(accuracy,2))"
   ]
  },
  {
   "cell_type": "markdown",
   "id": "427e0f70",
   "metadata": {},
   "source": [
    "Vorhersage\n",
    "Wir werden den Schlusskurs von Ethereum für die nächsten 30 Tage vorhersagen."
   ]
  },
  {
   "cell_type": "code",
   "execution_count": null,
   "id": "c9d4809a",
   "metadata": {},
   "outputs": [],
   "source": [
    "# Storing the last  60 days input in x_input\n",
    "x_input=X_test[-1:].reshape(1,-1)\n",
    "temp_input=list(x_input)\n",
    "temp_input=temp_input[0].tolist()\n",
    "\n",
    "lst_output=[] # Creating an empty list to store the forecasted values.\n",
    "n_steps = 60\n",
    "i=0\n",
    "forecast = []\n",
    "while(i<30): # Iterating 30 times to get the predictions for the next 30 days\n",
    "    \n",
    "    if(len(temp_input)>60):\n",
    "        x_input=np.array(temp_input[1:])\n",
    "        x_input=x_input.reshape(1,-1)\n",
    "        \n",
    "        x_input = x_input.reshape((1, n_steps, 1))\n",
    "        forecast.append(x_input)\n",
    "        yhat = model_1.predict(x_input, verbose=0) # predicting the price using last 60 days as inputs\n",
    "        temp_input.extend(yhat[0].tolist())\n",
    "        temp_input=temp_input[1:]\n",
    "        lst_output.extend(yhat.tolist())\n",
    "        i=i+1\n",
    "    else:\n",
    "        x_input = x_input.reshape((1, n_steps,1))\n",
    "        forecast.append(x_input)\n",
    "        yhat = model_1.predict(x_input, verbose=0)\n",
    "        temp_input.extend(yhat[0].tolist())\n",
    "        lst_output.extend(yhat.tolist())\n",
    "        i=i+1\n",
    "\n",
    "# Inverse transforming the forecasted values\n",
    "df3=scaler1.inverse_transform(lst_output)\n",
    "# Inverse transforming the test values\n",
    "df1=scaler1.inverse_transform(ethereum_test).tolist()\n",
    "# Combining the test and the forecasted values\n",
    "df1.extend(df3)\n",
    "today = datetime.datetime.now().strftime('%m/%d/%Y')\n",
    "forecast_dates=pd.date_range(start=today, periods=30) # Calculating the next 30 dates\n",
    "forecast=pd.DataFrame(forecast_dates,columns=['Date']) \n",
    "forecast['Date']=pd.to_datetime(forecast['Date'])\n",
    "forecast.sort_values('Date',inplace=True)\n",
    "forecast['Close']=df3 # Storing the forecasted price in forecast dataframe\n",
    "forecast.set_index('Date',inplace=True)\n",
    "result_df=pd.concat([ethereum_df_orig['Close'],forecast]) # combining the past 2 years data with next 30 days data\n",
    "\n",
    "# Plotting the forecast with the original close price values\n",
    "ax = result_df[:-29].plot(figsize=(20,10),linewidth=2,fontsize=20,grid=True)\n",
    "result_df[-30:].plot(ax=ax,linewidth=3)\n",
    "plt.title('Close price value in next 30 days (Ethereum)', fontsize = 20)\n",
    "plt.legend(['Close','Forecast'],fontsize=20)\n",
    "plt.show()"
   ]
  },
  {
   "cell_type": "markdown",
   "id": "773c8ab1",
   "metadata": {},
   "source": [
    "Bitcoin Modell Training\n",
    "Alle Schritte, die wir für die Ethereum-Daten durchgeführt haben, gelten auch für die Bitcoin-Daten."
   ]
  },
  {
   "cell_type": "markdown",
   "id": "59cd2260",
   "metadata": {},
   "source": [
    "Modell Training mit LSTM Bitcoin"
   ]
  },
  {
   "cell_type": "code",
   "execution_count": null,
   "id": "38836c74",
   "metadata": {},
   "outputs": [],
   "source": [
    "window_size = 60\n",
    "\n",
    "# Creating a data structure with 60 timesteps and 1 output\n",
    "X_train = []\n",
    "y_train = []\n",
    "for i in range(window_size, len(ethereum_train)):\n",
    "    X_train.append(ethereum_train.iloc[i-window_size:i].values) \n",
    "    y_train.append(ethereum_train.iloc[i, -1]) # consider Close as target\n",
    "    \n",
    "# Change them to numpy array\n",
    "X_train, y_train = np.array(X_train), np.array(y_train).reshape(-1,1)"
   ]
  },
  {
   "cell_type": "code",
   "execution_count": null,
   "id": "1d4f7860",
   "metadata": {},
   "outputs": [],
   "source": [
    "#Preparing Test dataset\n",
    "\n",
    "# Concatenate train data to test data\n",
    "dataset_total = np.concatenate((ethereum_train, ethereum_test), axis = 0)\n",
    "# Split test data and last window-size of train data\n",
    "inputs = dataset_total[len(dataset_total) - len(ethereum_test) - window_size:]\n",
    "# Do the same thing for test data\n",
    "X_test = []\n",
    "y_test = []\n",
    "for i in range(window_size, window_size+len(ethereum_test)):\n",
    "    X_test.append(inputs[i-window_size:i, :]) \n",
    "    y_test.append(inputs[i, -1]) # consider Close as target\n",
    "# Change them to numpy array\n",
    "X_test, y_test = np.array(X_test), np.array(y_test).reshape(-1, 1)"
   ]
  },
  {
   "cell_type": "code",
   "execution_count": null,
   "id": "6def89a6",
   "metadata": {},
   "outputs": [],
   "source": [
    "# Create a Keras Model\n",
    "model_1 = Sequential()\n",
    "\n",
    "#Add LSTM\n",
    "model_1.add(LSTM(units=256, return_sequences=True, input_shape = (X_train.shape[1], X_train.shape[2])))\n",
    "model_1.add(Dropout(0.5))\n",
    "model_1.add(LSTM(units=64, return_sequences= False))\n",
    "model_1.add(Dense(units=10, activation= 'relu'))\n",
    "model_1.add(Dense(units=1))\n",
    "adamopt = Adam(lr=0.001)\n",
    "\n",
    "# Compile with Adam Optimizer. Optimize for minimum mean square error\n",
    "model_1.compile(optimizer = adamopt, loss = 'mse')\n",
    "\n",
    "# Initializing the early stop to stop the model at best accuracy\n",
    "earlystop = EarlyStopping(monitor = 'loss',\n",
    "                          min_delta = 0,\n",
    "                          patience = 5,\n",
    "                          restore_best_weights = True)\n",
    "\n",
    "#Print model summary\n",
    "model_1.summary()\n",
    "\n",
    "# Fitting LSTM model \n",
    "model_1_history = model_1.fit(X_train, y_train, epochs = 30, callbacks = earlystop)\n"
   ]
  },
  {
   "cell_type": "code",
   "execution_count": null,
   "id": "e95e16bd",
   "metadata": {},
   "outputs": [],
   "source": [
    "# Predicting on the test data\n",
    "test_predict_1 = model_1.predict(X_test)\n",
    "\n",
    "# Calculating the rmse value for the predictions and the actual test values\n",
    "print('RMSE :', np.sqrt(mean_squared_error(y_test, test_predict_1)))\n",
    "\n",
    "# Visualizing the actual test and predicted values\n",
    "plt.figure(figsize = (20,10))\n",
    "plt.grid(b=True, which='major', axis='both')\n",
    "plt.title('Testing prediction result (LSTM)', fontsize = 30)\n",
    "plt.plot(ethereum_test.index, y_test,linewidth = 4, label='True', color = 'blue')\n",
    "plt.plot(ethereum_test.index, test_predict_1,linewidth = 4,color = 'red', label='Predicted')\n",
    "plt.xticks(fontsize = 20)\n",
    "plt.yticks(fontsize = 20)\n",
    "plt.legend(fontsize=25,shadow=True,facecolor='cyan', edgecolor = 'k')\n",
    "plt.show()"
   ]
  },
  {
   "cell_type": "code",
   "execution_count": null,
   "id": "bb1ea457",
   "metadata": {},
   "outputs": [],
   "source": [
    "# Calculating the accuarcy score \n",
    "accuracy = r2_score(y_test, test_predict_1)*100\n",
    "print('Accuracy score of LSTM : ', round(accuracy,2))"
   ]
  },
  {
   "cell_type": "markdown",
   "id": "a04eebe3-9c82-481e-9e8a-0bbd8867f366",
   "metadata": {},
   "source": [
    "### Modell Training mit RNN Bitcoin"
   ]
  },
  {
   "cell_type": "code",
   "execution_count": null,
   "id": "9425a658-0244-4d30-bd5c-411e5a24b0ca",
   "metadata": {},
   "outputs": [],
   "source": [
    "window_size = 60\n",
    "\n",
    "# Creating a data structure with 60 timesteps and 1 output\n",
    "X_train = []\n",
    "y_train = []\n",
    "for i in range(window_size, len(bitcoin_train)):\n",
    "    X_train.append(bitcoin_train.iloc[i-window_size:i].values) \n",
    "    y_train.append(bitcoin_train.iloc[i, -1]) # consider Close as target\n",
    "    \n",
    "# Change them to numpy array\n",
    "X_train, y_train = np.array(X_train), np.array(y_train).reshape(-1,1)"
   ]
  },
  {
   "cell_type": "code",
   "execution_count": null,
   "id": "875e7f7e-018e-48c3-b802-c0c492b85121",
   "metadata": {},
   "outputs": [],
   "source": [
    "# Preparing Test dataset\n",
    "\n",
    "# Concatenate train data to test data\n",
    "dataset_total = np.concatenate((bitcoin_train, bitcoin_test), axis = 0)\n",
    "# Split test data and last window-size of train data\n",
    "inputs = dataset_total[len(dataset_total) - len(bitcoin_test) - window_size:]\n",
    "# Do the same thing for test data\n",
    "X_test = []\n",
    "y_test = []\n",
    "for i in range(window_size, window_size+len(bitcoin_test)):\n",
    "    X_test.append(inputs[i-window_size:i, :]) \n",
    "    y_test.append(inputs[i, -1]) # consider Close as target\n",
    "# Change them to numpy array\n",
    "X_test, y_test = np.array(X_test), np.array(y_test).reshape(-1, 1)"
   ]
  },
  {
   "cell_type": "code",
   "execution_count": null,
   "id": "55f95b53-c5da-472b-b88a-0f277729d206",
   "metadata": {},
   "outputs": [],
   "source": [
    "# Create a Keras Model\n",
    "model_1 = Sequential()\n",
    "\n",
    "#Add RNN \n",
    "model_1.add(SimpleRNN(units=256, input_shape = (X_train.shape[1], X_train.shape[2])))\n",
    "model_1.add(Dropout(0.5))\n",
    "model_1.add(Dense(units=10))\n",
    "model_1.add(Dense(units=1))\n",
    "adamopt = Adam(lr=0.001)\n",
    "\n",
    "# Compile with Adam Optimizer. Optimize for minimum mean square error\n",
    "model_1.compile(optimizer = adamopt, loss = 'mse')\n",
    "\n",
    "# Initializing the early stop to stop the model at best accuracy\n",
    "earlystop = EarlyStopping(monitor = 'loss',\n",
    "                          min_delta = 0,\n",
    "                          patience = 5,\n",
    "                          restore_best_weights = True)\n",
    "\n",
    "#Print model summary\n",
    "model_1.summary()\n",
    "\n",
    "# Fitting RNN model \n",
    "model_1_history = model_1.fit(X_train, y_train, epochs = 30, callbacks = earlystop)"
   ]
  },
  {
   "cell_type": "code",
   "execution_count": null,
   "id": "1ed5f302-74ff-4068-9d66-de61cde88f48",
   "metadata": {},
   "outputs": [],
   "source": [
    "test_predict_1 = model_1.predict(X_test)\n",
    "print('RMSE :', np.sqrt(mean_squared_error(y_test, test_predict_1)))\n",
    "\n",
    "plt.figure(figsize = (20,10))\n",
    "plt.grid(b=True, which='major', axis='both')\n",
    "plt.title('Testing prediction result (RNN)', fontsize = 30)\n",
    "plt.plot(ethereum_test.index, y_test,linewidth = 4, label='True', color = 'blue')\n",
    "plt.plot(ethereum_test.index, test_predict_1,linewidth = 4,color = 'red', label='Predicted')\n",
    "plt.xticks(fontsize = 20)\n",
    "plt.yticks(fontsize = 20)\n",
    "plt.legend(fontsize=25,shadow=True,facecolor='cyan', edgecolor = 'k')\n",
    "plt.show()"
   ]
  },
  {
   "cell_type": "code",
   "execution_count": null,
   "id": "b938c9e3-ca75-4825-961f-c25fc24e7d4f",
   "metadata": {},
   "outputs": [],
   "source": [
    "accuracy = r2_score(y_test, test_predict_1)*100\n",
    "print('Accuracy score of RNN : ', round(accuracy,2))"
   ]
  },
  {
   "cell_type": "markdown",
   "id": "5719cf2b",
   "metadata": {},
   "source": [
    "Vorhersage RNN Bitcoin"
   ]
  },
  {
   "cell_type": "code",
   "execution_count": null,
   "id": "9643e888",
   "metadata": {},
   "outputs": [],
   "source": [
    "x_input=X_test[-1:].reshape(1,-1)\n",
    "temp_input=list(x_input)\n",
    "temp_input=temp_input[0].tolist()\n",
    "lst_output=[]\n",
    "n_steps = 60\n",
    "i=0\n",
    "forecast = []\n",
    "while(i<30):\n",
    "    \n",
    "    if(len(temp_input)>60):\n",
    "        x_input=np.array(temp_input[1:])\n",
    "        x_input=x_input.reshape(1,-1)\n",
    "        \n",
    "        x_input = x_input.reshape((1, n_steps, 1))\n",
    "        forecast.append(x_input)\n",
    "        yhat = model_1.predict(x_input, verbose=0)\n",
    "        temp_input.extend(yhat[0].tolist())\n",
    "        temp_input=temp_input[1:]\n",
    "        lst_output.extend(yhat.tolist())\n",
    "        i=i+1\n",
    "    else:\n",
    "        x_input = x_input.reshape((1, n_steps,1))\n",
    "        forecast.append(x_input)\n",
    "        yhat = model_1.predict(x_input, verbose=0)\n",
    "        temp_input.extend(yhat[0].tolist())\n",
    "        lst_output.extend(yhat.tolist())\n",
    "        i=i+1\n",
    "    \n",
    "df3=scaler2.inverse_transform(lst_output)\n",
    "df1=scaler2.inverse_transform(bitcoin_test).tolist()\n",
    "df1.extend(df3)\n",
    "today = datetime.datetime.now().strftime('%m/%d/%Y')\n",
    "forecast_dates=pd.date_range(start=today, periods=30)\n",
    "forecast=pd.DataFrame(forecast_dates,columns=['Date'])\n",
    "forecast['Date']=pd.to_datetime(forecast['Date'])\n",
    "forecast.sort_values('Date',inplace=True)\n",
    "forecast['Close']=df3\n",
    "forecast.set_index('Date',inplace=True)\n",
    "result_df=pd.concat([bitcoin_df_orig['Close'],forecast])\n",
    "\n",
    "ax = result_df[:-29].plot(figsize=(20,10),linewidth=2,fontsize=20,grid=True)\n",
    "result_df[-30:].plot(ax=ax,linewidth=3)\n",
    "plt.title('Close price value in next 30 days (Bitcoin)', fontsize = 20)\n",
    "plt.legend(['Close','Forecast'],fontsize=20)\n",
    "plt.show()"
   ]
  },
  {
   "cell_type": "markdown",
   "id": "dd5b2f0f",
   "metadata": {},
   "source": [
    "Ergebnisse und Diskussion\n",
    "\n",
    "Das Ergebnis zeigt auf, dass das neuronale Netz RNN eine bessere Alternative des DeepLearning Modell als das LSTM Modell für die Vorhersage von Zeitreihen an den beiden Cryptowährungen sein kann. Der Gesamterfolg der vorgestellten RNN-Einstellung bei der Lösung der Aufgabe in diesem Projekt ist hoch, da die Testgenauigkeit für Ethereum bei 93.25 % und für Bitcoin bei 91.86% liegt. Deste öfter wir das Modell trainierten, desto besser wurde die Genauigkeit. Deshalb sind weitere Tests verschiedener Parameter und Architektureinstellungen erforderlich, um die Genauigkeit zu verbessern.\n",
    "\n",
    "Wendet man dieselbe Handelsregeln (Parameter) für die LSTM-Ausgabe an wie für RNN, so ergibt sich noch eine viel tiefere Genauigkeit (Genauigkeit liegt zwischen 77% und 86 % bei bdien Cryptowährungen). Daher hat das RNN-Modell den LSTM-Algorithmus in diesem Projekt übertroffen."
   ]
  },
  {
   "cell_type": "markdown",
   "id": "21294cf8",
   "metadata": {},
   "source": [
    "Webscraper\n",
    "Während der Erstellung dieses Projektes haben wir uns dazu entschlossen einen WebScraper als Kontrollinstanz zu verwenden. Dieser Webscraper ruft die Seite \"coinmarketcap.com\", welche uns während des Unterrichts präsentiert wurde, auf um die täglichen Preise der Kryptowährungen ETH & BTC anzuzeigen. Diese werden als Kontrolle zu den von Yahoo Finance angegeben Preisen gesehen. Der Code wurde von Nilay Chauhan übernommen und den Bedürfnissen der Gruppe entsprechend angepasst. Der originale Code ist unter der Internetquelle von Medium zu finden (Siehe Quellenverzeichnis)."
   ]
  },
  {
   "cell_type": "code",
   "execution_count": null,
   "id": "bc00c33c",
   "metadata": {},
   "outputs": [],
   "source": [
    "url='https://coinmarketcap.com/currencies/bitcoin/'\n",
    "coin_market = requests.get(url)\n",
    "soup = BeautifulSoup(coin_market.content, 'html.parser')\n",
    "priceBTC = soup.find(\"div\",{\"class\":\"priceValue\"}).get_text().replace(\"$\",\"\").replace(\",\",\"\").strip()\n",
    "price_float = float(priceBTC)\n",
    "today = str(date.today())"
   ]
  },
  {
   "cell_type": "code",
   "execution_count": null,
   "id": "cb224d80",
   "metadata": {},
   "outputs": [],
   "source": [
    "print (priceBTC)\n",
    "print(today)"
   ]
  },
  {
   "cell_type": "code",
   "execution_count": null,
   "id": "d87c02ac",
   "metadata": {},
   "outputs": [],
   "source": [
    "url='https://coinmarketcap.com/currencies/ethereum/'\n",
    "coin_market = requests.get(url)\n",
    "soup = BeautifulSoup(coin_market.content, 'html.parser')\n",
    "priceETH = soup.find(\"div\",{\"class\":\"priceValue\"}).get_text().replace(\"$\",\"\").replace(\",\",\"\").strip()\n",
    "price_float = float(priceETH)"
   ]
  },
  {
   "cell_type": "code",
   "execution_count": null,
   "id": "ecd2068d",
   "metadata": {},
   "outputs": [],
   "source": [
    "print (priceETH)\n",
    "print (today)"
   ]
  },
  {
   "cell_type": "markdown",
   "id": "f4cb09f3",
   "metadata": {},
   "source": [
    "# Ethische Fragestellung\n",
    "\n",
    "Beim Thema Krypto gibt es verschiedene ethische Fragen die man anbringen könnte zum Beispiel ob der dezentrale Ansatz von Krypto als Finanzinstrument der Allgemeinheit oder nur einigen Wenigen zu Gute kommt, die Internet- und allgemeine Kriminalität, Umweltbelastung durch den enormen Stromverbrauch, und die Volatilität der Währung im Allgemeinen. Davon haben sich zwei während dieses Gruppenprojektes am meisten herauskristallisiert und daher möchten wir diese in den folgenden Zeilen näher beschreiben. Es sei aber angemerkt dass über den Verlauf dieses Projektes nach ethischen Abhandlungen bezüglich Kryptowährungen im spezifischen und der damit verbundenen Blockchain Technologie im Allgemeinen gesucht wurde, hierzu möchten wir Dierksmeier & Seele erwähnen welche in ihrem 2020 erschienen Bericht davon schreiben dass bezüglich Krypto und Blockchain mehrheitlich die ethische Handhabung der Daten aber weniger die Auswirkungen von Kryptowährungen auf die Gesellschaft thematisiert werden und dass hier weitere Forschung von Nöten wäre (Dierksmeier, C., & Seele, P. (2020). Blockchain and business ethics. Business Ethics: A European Review, 29(2), 348–359.).\n",
    "\n",
    "Daraufhin haben wir uns wie bereits oben beschrieben mit zwei Risiken bzw. ethischen Problemen im speziellen befasst, diese sind dass dieses Projekt Nutzer dazu verleiten könnte dieses als Handlungsempfehlung aufzufassen und als zweites der Energieverbrauch von Kryptowährungen.\n",
    "\n",
    "#### Krypto ist Neuland\n",
    "\n",
    "Ein Punkt der uns während der gesamten Zeit an welcher wir an diesem Projekt gearbeitet haben war wie komplex Kryptowährungen in ihrer Entstehung und im Handel sind. Obwohl wir uns durch dieses Projekt verstärkt mit der Thematik befasst haben gibt es viele Punkte welche wir bis dato nicht verstehen. Im speziellen Preisentwicklung ist uns ein Phänomen geblieben. Mit dem von uns geschriebenen Algorithmus lassen sich zwar Preise voraussagen, aufgrund allein dieser Voraussagen aber Kaufentscheide zu tätigen und dadurch eventuell Existenzen zu gefährden sehen wir als ethisches Problem dieses Projektes an. Aufgrund der momentanen Entwicklung stellt sich bei vielen Amateur Händlern die Fragen wann es sich lohnen würde in den Markt einzusteigen und Gewinne zu realisieren, dies aber mit dem von uns geschriebenen Jupyter-Projekt zu tun sehen wir als Fehlentscheid.\n",
    "\n",
    "Dieses Projekt soll die Machbarkeit solcher Algorithmen aufzeigen, das Verständnis der involvierten Studenten für solche Algorithmen schärfen und nicht als Entscheidungshilfe für tatsächliche Handelsentscheidungen dienen.\n",
    "\n",
    "#### Krypto und die Umweltbelastung\n",
    "\n",
    "Ein weiterer Punkt welcher von uns während des Projektes rege diskutiert wurde war der enorme Energieverbrauch welcher beim sogenannten Krypto-mining entsteht. Diese Problematik wurde auch während des Unterrichts thematisiert. Auf Folie 19 der Woche 10 lektoriert von Dr. Mario Gellrich, wurde ein Bericht über den Energieverbrauch präsentiert welcher den Energieverbrauch von Bitcoin allein höher einschätzt als den der gesamten Energieverbrauch der Niederlande und zwar mit 111.7 Terrawattstunden (THW) zu 111 THW. In Zeiten in welcher die Energie noch zu großen Teilen aus fossilen Energieträgern gewonnen wird, und somit direkt der Klimawandel begünstigt wird stellt sich für uns als Studenten die Frage ob dies durch ein solches Projekt noch begünstigt wird.\n",
    "\n",
    "Der zweite Punkt wird vom ersten beeinflusst, durch die Veröffentlichung auf Git-Hub können jegliche Nutzer dieser Plattform dieses Projekt für ihre Zwecke nutzen und könnten versucht sein in den Kryptomarkt zu investieren. Dies würde den hohen Energieverbrauch von Bitcoin und weiteren Kryptowährungen weiter erhöhen."
   ]
  },
  {
   "cell_type": "markdown",
   "id": "774fc69e",
   "metadata": {},
   "source": [
    "### Quellenverzeichnis\n",
    "Bücher\n",
    "Titel: Python Machine Learning By Example\n",
    "Author: Yuxi (Hayden) Liu\n",
    "Packt Publishing Ltd Okt. 2020, Page 291 - Predicting Steock Prices with neural Networks\n",
    "Titel: Blockchain and business ethics. Business Ethics: A European Review, 29(2), 348–359.)\n",
    "Author: Dierksmeier, C. & Seele P\n",
    "\n",
    "Internet\n",
    " -https://medium.com/analytics-vidhya/predicting-ethereum-eth-prices-with-rnn-lstm-in-keras-tensorflow-9ae2709de270\n",
    "- https://medium.com/data-stash/dogecoin-price-notifier-with-web-scraping-and-whatsapp-notification-2b238d2bab83\n",
    "\n",
    "\n"
   ]
  },
  {
   "cell_type": "code",
   "execution_count": null,
   "id": "069a0219",
   "metadata": {},
   "outputs": [],
   "source": []
  }
 ],
 "metadata": {
  "instance_type": "ml.t3.medium",
  "kernelspec": {
   "display_name": "Python 3 (ipykernel)",
   "language": "python",
   "name": "python3"
  },
  "language_info": {
   "codemirror_mode": {
    "name": "ipython",
    "version": 3
   },
   "file_extension": ".py",
   "mimetype": "text/x-python",
   "name": "python",
   "nbconvert_exporter": "python",
   "pygments_lexer": "ipython3",
   "version": "3.9.7"
  }
 },
 "nbformat": 4,
 "nbformat_minor": 5
}
