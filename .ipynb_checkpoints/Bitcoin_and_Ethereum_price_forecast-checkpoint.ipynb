{
 "cells": [
  {
   "cell_type": "markdown",
   "id": "cae65be8",
   "metadata": {},
   "source": [
    "<h1><span style=\"font-family:Arial,Helvetica,sans-serif\">Projekt ADS - Crypto Predictions&nbsp;</span>🤑💵💳</h1>\n",
    "\n",
    "<h2><span style=\"font-family:Arial,Helvetica,sans-serif\">Gruppenarbeit: </span></h2>\n",
    "\n",
    "<ul>\n",
    "\t<li>\n",
    "\t<p><span style=\"font-family:Arial,Helvetica,sans-serif\">Gruppe 19</span></p>\n",
    "\t</li>\n",
    "\t<li><span style=\"font-family:Arial,Helvetica,sans-serif\">Teilnehmer/inen: Mato Bajusic 👨&zwj;💻, Albesa Istrefaj</span>👩&zwj;💻<span style=\"font-family:Arial,Helvetica,sans-serif\">, Fabian Thouet&nbsp;👨&zwj;💻</span></li>\n",
    "</ul>\n",
    "\n",
    "<hr />\n",
    "<h1><span style=\"font-family:Arial,Helvetica,sans-serif\">Einleitung</span></h1>\n",
    "\n",
    "<p><span style=\"font-family:Arial,Helvetica,sans-serif\">Eine Kryptow&auml;hrung ist ein digitales Geld, das als Tauschmittel &uuml;ber dezentrale Computernetzwerke funktionierten und<br />\n",
    "nicht von einer zentralen Beh&ouml;rde wie einer Regierung oder einer Bank abh&auml;ngig ist, die es unterst&uuml;tzt oder aufrechterh&auml;lt.<br />\n",
    "Der Sektor der Kryptow&auml;hrungen hat sich sehr stark ausgeweitet und ist zu einer milliardenschweren Industrie geworden.<br />\n",
    "Es ist schwierig, eine solch massive digitale W&auml;hrung zu verstehen, und die Einsch&auml;tzung der Trend&auml;nderung ist entscheidend,<br />\n",
    "da eine Trend&auml;nderung zu Gewinn oder Verlust f&uuml;r eine bestimmte Kryptow&auml;hrung f&uuml;hren kann. Bitcoin (BTC), der Marktf&uuml;hrer,<br />\n",
    "war in den letzten Montagen starken Kursschwankungen ausgesetzt. Dasselbe gilt f&uuml;r Ether. Betrachtet man den Preis &uuml;ber<br />\n",
    "einen l&auml;ngeren Zeitpunkt hinweg so ist ein massiver Kursanstieg zu verzeichnen. Im Dezember 2019 hatte ein Bitcoin einen<br />\n",
    "Wert von ungef&auml;hr 3&#39;729.00 USD, Ether 147.00 USD. Zum heutigen Zeitpunkt, 31.05.2022 betr&auml;gt der Preis f&uuml;r einen<br />\n",
    "Bitcoin (BTC) ungef&auml;hr 31&#39;630.00 USD und f&uuml;r Ether (ETH) 1&#39;971.40 USD.&nbsp;<br />\n",
    "Seit seiner Gr&uuml;ndung im Jahr 2008 durch eine Person oder Gruppe unter dem Pseudonym Satoshi Nakamoto ist Bitcoin<br />\n",
    "die weltweit am h&auml;ufigsten gehandelte und gehaltene Kryptow&auml;hrung. Bitcoin ist die erste Kryptow&auml;hrung der Welt und<br />\n",
    "gilt weithin als der Goldstandard f&uuml;r die Leistung von Kryptow&auml;hrungen. Ethereum wurde 2015 von einer Gruppe von<br />\n",
    "Computerprogrammierern unter der Leitung von Vitalik Buterin gegr&uuml;ndet. Es handelt sich um ein dezentrales Netzwerk<br />\n",
    "mit Smart-Contract-Funktionen, die es dem Netzwerk erm&ouml;glichen, eine Reihe von dezentralen Anwendungen zu hosten.<br />\n",
    "Ethereum ist wie Bitcoin eine dezentrale Open-Source-Initiative, die zur Durchf&uuml;hrung von Peer-to-Peer-Zahlungen verwendet wird,<br />\n",
    "aber es ist viel mehr. Entwickler k&ouml;nnen Datenbanken entwerfen und Smart Contracts f&uuml;r dezentralisierte Finanzen, NonFungible<br />\n",
    "Token (NFT) und viele mehr. Im Bitcoin-Netzwerk sind diese Anwendungen nicht m&ouml;glich.<br />\n",
    "<br />\n",
    "Da wir an dem Thema Kryptow&auml;hrungen sehr interessiert und &uuml;berzeugt sind, dass die Blockchain Technologie viel Potenzial bietet,<br />\n",
    "haben wir uns entschieden ein Vorhersage Modell f&uuml;r Bitcoin und Ether zu entwickeln.</span></p>\n",
    "\n",
    "<h1><span style=\"font-family:Arial,Helvetica,sans-serif\">Problemstellung&nbsp;🛑</span></h1>\n",
    "\n",
    "<p><span style=\"font-family:Arial,Helvetica,sans-serif\">Einer der gr&ouml;ssten Durchbr&uuml;che und Herausforderungen in der modernen Weltwirtschaft war der rasante Aufstieg<br />\n",
    "digitaler W&auml;hrungen in den letzten zehn Jahren. Starke Schwankungen der Wechselkurse von Kryptow&auml;hrungen,<br />\n",
    "ihre hohe Volatilit&auml;t sowie die fehlende rechtliche Kontrolle ihrer Transaktionen in den meisten L&auml;ndern haben zu<br />\n",
    "erheblichen Risiken bei Investitionen in Kryptoanlagen gef&uuml;hrt. Daher ist es sowohl f&uuml;r die wissenschaftliche Gemeinschaft<br />\n",
    "als auch f&uuml;r Finanzanalysten, Investoren und Kleinanleger von Interesse, geeignete Methoden und Modelle f&uuml;r die Vorhersage<br />\n",
    "der Preise von Kryptow&auml;hrungen zu finden.</span></p>\n",
    "\n",
    "<h1><span style=\"font-family:Arial,Helvetica,sans-serif\">Ziel&nbsp;🎯</span></h1>\n",
    "\n",
    "<p><span style=\"font-family:Arial,Helvetica,sans-serif\">Ziel ist es, mit Hilfe von Deep-Learning-Algorithmen ein Vorhersagemodell f&uuml;r die Kryptow&auml;hrungen Bitcoin und Ethereum zu erstellen. Dabei werden die Modell RNN und LSTM miteinander verglichen</span></p>\n",
    "\n",
    "<h1><span style=\"font-family:Arial,Helvetica,sans-serif\">Forschungsfrage&nbsp;❓</span></h1>\n",
    "\n",
    "<ol>\n",
    "\t<li><span style=\"font-family:Arial,Helvetica,sans-serif\">Welches der beiden Modelle RNN und LSTM erreicht die höheren Genauigkeitswerte?</span></li>\n",
    "</ol>\n",
    "\n",
    "<h1><span style=\"font-family:Arial,Helvetica,sans-serif\">Methoden und Vorgehen&nbsp;🛣</span></h1>\n",
    "\n",
    "<p><span style=\"font-family:Arial,Helvetica,sans-serif\">In diesem Notizbuch möchten wir die Deep-Learning-Modelle RNN und LSTM implementieren, um Vorhersagen für Kryptowährungen zu erstellen.<br />\n",
    "&nbsp;</p>"
   ]
  },
  {
   "cell_type": "code",
   "execution_count": 59,
   "id": "699694aa-dc84-47e1-bd2e-a35246527b38",
   "metadata": {},
   "outputs": [],
   "source": [
    "#!pip install tensorflow\n",
    "#!pip install sklearn\n",
    "#!pip install yfinance"
   ]
  },
  {
   "cell_type": "code",
   "execution_count": null,
   "id": "d51e2d3b-6c83-491c-95f2-32265f41834c",
   "metadata": {},
   "outputs": [],
   "source": []
  }
 ],
 "metadata": {
  "instance_type": "ml.t3.medium",
  "kernelspec": {
   "display_name": "Python 3 (Base Python 2.0)",
   "language": "python",
   "name": "python3__SAGEMAKER_INTERNAL__arn:aws:sagemaker:us-east-1:081325390199:image/sagemaker-base-python-38"
  },
  "language_info": {
   "codemirror_mode": {
    "name": "ipython",
    "version": 3
   },
   "file_extension": ".py",
   "mimetype": "text/x-python",
   "name": "python",
   "nbconvert_exporter": "python",
   "pygments_lexer": "ipython3",
   "version": "3.8.12"
  }
 },
 "nbformat": 4,
 "nbformat_minor": 5
}
